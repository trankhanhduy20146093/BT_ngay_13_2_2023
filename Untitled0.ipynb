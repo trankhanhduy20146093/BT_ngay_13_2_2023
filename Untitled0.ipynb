{
  "cells": [
    {
      "cell_type": "markdown",
      "metadata": {
        "id": "view-in-github",
        "colab_type": "text"
      },
      "source": [
        "<a href=\"https://colab.research.google.com/github/trankhanhduy20146093/BT_ngay_13_2_2023/blob/main/Untitled0.ipynb\" target=\"_parent\"><img src=\"https://colab.research.google.com/assets/colab-badge.svg\" alt=\"Open In Colab\"/></a>"
      ]
    },
    {
      "cell_type": "code",
      "execution_count": null,
      "metadata": {
        "id": "5SOYJ6jiWh5y"
      },
      "outputs": [],
      "source": [
        "value1 = input(\"Nhập giá trị 1: \")\n",
        "value2 = input(\"Nhập giá trị 2: \")\n",
        "value1 = int(value1)\n",
        "value2 = int(value2)\n",
        "value1 + value2\n",
        "\n"
      ]
    },
    {
      "cell_type": "code",
      "execution_count": null,
      "metadata": {
        "id": "qoqjShWrW6vM"
      },
      "outputs": [],
      "source": [
        "with open('text.txt',mode='w') as account:\n",
        "  account.write('20146  Nguyễn văn A  10\\n')\n",
        "  account.write('20147 Lê văn B   9\\n')\n",
        "  account.write('20145 Trần văn C   8\\n')\n"
      ]
    },
    {
      "cell_type": "code",
      "execution_count": null,
      "metadata": {
        "id": "JedVfk_xZAj0"
      },
      "outputs": [],
      "source": [
        "with open('text.txt1',mode='w') as account:\n",
        "  print('20146  Nguyễn văn A',file = account)\n",
        "  print('20147  Lê văn B',file = account)\n",
        "  print('20145  Trần văn C',file = account)"
      ]
    },
    {
      "cell_type": "code",
      "execution_count": null,
      "metadata": {
        "id": "2TCE0BgpZ8fR"
      },
      "outputs": [],
      "source": [
        "with open('text.txt',mode='r') as account:\n",
        "  print(f\"{'mssv':<10}{'name':<20}{'score':>2}\")\n",
        "  for record in account:\n",
        "    MSSV,Name,Score=record.split()\n",
        "    print(f\"{'mssv':<10}{'name':<20}{'score':>2}\")\n"
      ]
    },
    {
      "cell_type": "code",
      "execution_count": null,
      "metadata": {
        "id": "gtLALwBnenDU"
      },
      "outputs": [],
      "source": [
        "import pandas as pd\n",
        "url='data2.csv'\n",
        "dataframe = pd.read_csv(url)\n",
        "dataframe.head(21) #doc het 21 dong\n",
        "dataframe.iloc[0:10]  #doc tu dong 0 toi 10\n",
        "dataframe = dataframe.set_index(dataframe['Ho va ten'])\n",
        "dataframe.loc['A'] #loc nhung ai ten A\n",
        "dataframe[dataframe['Khoa']=='CNTT'].head(10)  #loc nhung nguoi thuoc khoa CNTT, KI TU THI '', SO THI KHONG CAN ''\n",
        "dataframe[(dataframe['Khoa']=='CNTT') & (dataframe['Diem']==6)] #combo x2 loc\n",
        "dataframe['Khoa'].replace('CNTT','Cong Nghe TT').head(21) #thay the ten khoa\n",
        "\n",
        "print('Diem cao nhat',dataframe['Diem'].max()) #k caan chu thich\n",
        "                                                #ngoai max con min, avr, count\n",
        "dataframe['Khoa'].unique() #liet ke khoa gom nhung cai gi\n",
        "dataframe['Khoa'].value_counts()#dem xem so luong thanh phan trong khoa VD  CKM     5\n",
        "                                                                            #CNTP    4\n",
        "dataframe.drop('MSSV',axis = 1).head(20)     #xoa di du lieu, neu can laay lai thi phai load lai\n",
        "dataframe.drop(['MSSV','Khoa'],axis = 1).head(21)\n",
        "dataframe.drop(dataframe.columns[3:4],axis = 1).head(21)             #xoa cot 2,3\n",
        "\n",
        "dataframe[dataframe['Khoa']!='CKM'].head(10)   #hien thi khoa khac CKM\n",
        "\n",
        "dataframe.drop_duplicates('Khoa').head(20) #nhom gia tri giong nhau xoa khoa thi se gom all lai\n",
        "\n",
        "dataframe.groupby(['Khoa','Diem']).count()\n",
        "\n",
        "dataframe.groupby('Khoa')['Diem'].count()\n"
      ]
    },
    {
      "cell_type": "code",
      "source": [
        "import pandas as pd #doc du lieu tu cam bien voi tan so 1 tuan 1 lan\n",
        "import numpy as np\n",
        "time_index = pd.date_range('01/01/2023',periods=100000,freq='30s')\n",
        "dataframe = pd.DataFrame(index=time_index)               #chu y viet hoa ham DataFrame\n",
        "dataframe ['Acess.Amount'] = np.random.randint(1,10,100000)\n",
        "dataframe.resample('W').sum() #W = week\n",
        "dataframe.resample('W').sum() #W = week"
      ],
      "metadata": {
        "id": "WBpRnwA2n80V"
      },
      "execution_count": null,
      "outputs": []
    },
    {
      "cell_type": "code",
      "source": [
        "import pandas as pd\n",
        "url = 'http://winterolympicsmedals.com/medals.csv'\n",
        "dataframe = pd.read_csv(url)\n",
        "dataframe.head(30) #hien thi\n",
        "\n",
        "#Tim so huy chuong cua 1 nuoc (CAN)\n",
        "data1 = dataframe.set_index(dataframe['NOC'])\n",
        "data1.loc['CAN']   #loc nuoc CAN\n",
        "x = data1['Medal'].value_counts()\n",
        "print('Tong huy chuong cua CAN \\n',x)\n",
        "\n",
        "#tim so huy chuong vang, bac trong cac che do ca nhan, dong doi\n",
        "data2 = data1[data1['Event']=='Individual']     #loc che do ca nhan\n",
        "y = data2['Medal'].value_counts()  #dem so huy chuong\n",
        "\n",
        "print('So huy chuong che do ca nhan\\n',y)\n",
        "data3 = data1[data1['Event']=='pairs']     #loc che do dong doi\n",
        "z =data3['Medal'].value_counts()  #dem so huy chuong\n",
        "\n",
        "print('So huy chuong che do dong doi\\n',z)"
      ],
      "metadata": {
        "colab": {
          "base_uri": "https://localhost:8080/"
        },
        "id": "y7VTbsdXuwBf",
        "outputId": "699b765b-b1d8-4a9d-f03f-5e99db05dcc6"
      },
      "execution_count": 157,
      "outputs": [
        {
          "output_type": "stream",
          "name": "stdout",
          "text": [
            "Tong huy chuong cua CAN \n",
            " Gold      774\n",
            "Silver    773\n",
            "Bronze    764\n",
            "Name: Medal, dtype: int64\n",
            "So huy chuong che do ca nhan\n",
            " Silver    1\n",
            "Gold      1\n",
            "Bronze    1\n",
            "Name: Medal, dtype: int64\n",
            "So huy chuong che do dong doi\n",
            " Gold      21\n",
            "Bronze    20\n",
            "Silver    19\n",
            "Name: Medal, dtype: int64\n"
          ]
        }
      ]
    },
    {
      "cell_type": "code",
      "source": [],
      "metadata": {
        "id": "NWqvOzpY0-Md"
      },
      "execution_count": null,
      "outputs": []
    }
  ],
  "metadata": {
    "colab": {
      "provenance": [],
      "authorship_tag": "ABX9TyM77+wwgWXFbJDNFm73P3G5",
      "include_colab_link": true
    },
    "kernelspec": {
      "display_name": "Python 3",
      "name": "python3"
    },
    "language_info": {
      "name": "python"
    }
  },
  "nbformat": 4,
  "nbformat_minor": 0
}